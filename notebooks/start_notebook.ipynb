{
 "cells": [
  {
   "cell_type": "code",
   "execution_count": 1,
   "id": "70ebc71d-3bbc-4a4d-b4dc-0b3af57499bf",
   "metadata": {},
   "outputs": [
    {
     "data": {
      "text/plain": [
       "'/home/jovyan/work'"
      ]
     },
     "execution_count": 1,
     "metadata": {},
     "output_type": "execute_result"
    }
   ],
   "source": [
    "import os\n",
    "os.getcwd()"
   ]
  },
  {
   "cell_type": "code",
   "execution_count": 2,
   "id": "139bd7a8-e30e-4633-92c6-5415b86e0e32",
   "metadata": {},
   "outputs": [],
   "source": [
    "import pandas as pd\n",
    "import numpy as np\n",
    "from langchain_openai import ChatOpenAI"
   ]
  },
  {
   "cell_type": "code",
   "execution_count": 27,
   "id": "a23854a3-f9f3-41a1-8d67-a181438bdf12",
   "metadata": {},
   "outputs": [],
   "source": [
    "from langchain.agents import initialize_agent\n",
    "from langchain.agents import Tool, load_tools, AgentType"
   ]
  },
  {
   "cell_type": "code",
   "execution_count": 8,
   "id": "5568f8b0-941a-4107-9a47-8be862de6037",
   "metadata": {},
   "outputs": [],
   "source": [
    "llm = ChatOpenAI(model='gpt-4o-mini', api_key=os.getenv('api_key_aleron'), base_url='https://aleron-llm.neuraldeep.tech/')"
   ]
  },
  {
   "cell_type": "code",
   "execution_count": 11,
   "id": "e0a39fd8-24ed-4b14-8f31-38af11042a78",
   "metadata": {},
   "outputs": [
    {
     "data": {
      "text/plain": [
       "'Это отличный подход! Использование Docker для создания окружения с нужными библиотеками — это удобный и эффективный способ обеспечить совместимость и возможность быстрого развертывания проекта на любом компьютере. \\n\\nЕсли ты добавил необходимые библиотеки в `requirements.txt`, то теперь достаточно просто запустить контейнер, и все зависитимые пакеты будут автоматически установлены. Также это упрощает процесс совместной работы, так как другие разработчики могут клонировать твой репозиторий и запустит ваш проект без дополнительных конфигураций.\\n\\nЕсли ты столкнешься с какими-либо вопросами или проблемами при работе с Docker или библиотеками, не стесняйся спрашивать! Удачи в дальнейшей разработке!'"
      ]
     },
     "execution_count": 11,
     "metadata": {},
     "output_type": "execute_result"
    }
   ],
   "source": [
    "llm.invoke('''txt''').content"
   ]
  },
  {
   "cell_type": "code",
   "execution_count": 20,
   "id": "39f32362-36fe-42e9-9334-29dc33eb61d2",
   "metadata": {},
   "outputs": [],
   "source": [
    "from langchain_community.utilities import GoogleSerperAPIWrapper"
   ]
  },
  {
   "cell_type": "code",
   "execution_count": 34,
   "id": "cc750ee1-2dcd-46d6-af65-2a4857ffd1cc",
   "metadata": {},
   "outputs": [],
   "source": [
    "serper_api = GoogleSerperAPIWrapper(serper_api_key=os.getenv('serper_api_key'), k=2)"
   ]
  },
  {
   "cell_type": "code",
   "execution_count": 35,
   "id": "bbd38f1c-ca35-4058-8006-ca9a7889d579",
   "metadata": {},
   "outputs": [],
   "source": [
    "@tool\n",
    "def searcher_web(x):\n",
    "    'searcher from google search'\n",
    "    return serper_api.run(x)"
   ]
  },
  {
   "cell_type": "code",
   "execution_count": 36,
   "id": "295c7649-5b80-4551-8d7e-26c9ba24bded",
   "metadata": {},
   "outputs": [],
   "source": [
    "agent = initialize_agent(tools=[searcher_web], llm=llm, agent=AgentType.ZERO_SHOT_REACT_DESCRIPTION, verbose=True)"
   ]
  },
  {
   "cell_type": "code",
   "execution_count": 37,
   "id": "bd49e5cc-7c31-47c9-a23f-b0648188efb3",
   "metadata": {},
   "outputs": [
    {
     "name": "stdout",
     "output_type": "stream",
     "text": [
      "\n",
      "\n",
      "\u001b[1m> Entering new AgentExecutor chain...\u001b[0m\n",
      "\u001b[32;1m\u001b[1;3mЯ должен выяснить, кто такой Камиль Габбасов. Для этого я выполню поиск в интернете.  \n",
      "Action: searcher_web  \n",
      "Action Input: \"Камиль Габбасов\"  \u001b[0m\n",
      "Observation: \u001b[36;1m\u001b[1;3m1 post. 10 followers. 5 following. kamil_gabbasov. Камиль габбасов. Follow. Photo by Камиль габбасов on July 24, 2020. Sign up • Instagram. 6 мая 1973 г. Сообщества. 85. Фотографии. 50. Видео. 9. Подписки. 61. Подарки 30Показать все. С твоим днем! От сердца. Заяц с тортом. Happy birthday! С ...\u001b[0m\n",
      "Thought:\u001b[32;1m\u001b[1;3mЯ не нашел четкой информации о Камиле Габбасове из полученных данных. Похоже, что это может быть личность, имеющая аккаунт в Instagram, но не хватает биографической информации или каких-либо достижений. Я продолжу поиск.  \n",
      "Action: searcher_web  \n",
      "Action Input: \"Камиль Габбасов биография\"  \u001b[0m\n",
      "Observation: \u001b[36;1m\u001b[1;3mКамиль Габбасов ; Видео. 9 ; Языки: Русский, Татарча ; Образование. Школа: Школа № 16. Альметьевск ; Школа: Школа № 16. Альметьевск ; Жизненная позиция. Полит. «Москвы я испугался, – признается нам Камиль Габбасов, – поэтому остался в Челябинске». Два года учился на архитектурно-строительном, потом ...\u001b[0m\n",
      "Thought:\u001b[32;1m\u001b[1;3mЯ нашел некоторые данные о Камиле Габбасове, но информация все еще ограниченная. Он учился в Альметьевске и высказывал свои мысли о Москве и Челябинске. Однако этого недостаточно для четкого определения его значимости или достижений. Нужно провести еще один поиск, чтобы собрать больше информации.  \n",
      "Action: searcher_web  \n",
      "Action Input: \"Камиль Габбасов новости\"  \u001b[0m\n",
      "Observation: \u001b[36;1m\u001b[1;3mНаши журналисты сегодня утром отправились в Заболотье. Здесь местные жители столкнулись с проблемой - отсутствие дороги. Шестеро туристов из России чуть не погибли во время морской прогулки в Таиланде — среди отдыхающих был ребёнок.\u001b[0m\n",
      "Thought:\u001b[32;1m\u001b[1;3mЯ не нашел дополнительной информации о Камиле Габбасове. По-прежнему неясно, кем он является и какие у него достижения. Вероятно, он не является общественной фигурой, о которой есть много известных фактов. Похоже, что у меня недостаточно данных для формирования полного ответа. Я закончу свой поиск на этом этапе.\n",
      "\n",
      "Final Answer: Информация о Камиле Габбасове ограничена. Он, возможно, является личностью, но не обнаружено значительных фактов о его жизни или достижениях.\u001b[0m\n",
      "\n",
      "\u001b[1m> Finished chain.\u001b[0m\n"
     ]
    },
    {
     "data": {
      "text/plain": [
       "{'input': 'кто такой Камиль Габбасов?',\n",
       " 'output': 'Информация о Камиле Габбасове ограничена. Он, возможно, является личностью, но не обнаружено значительных фактов о его жизни или достижениях.'}"
      ]
     },
     "execution_count": 37,
     "metadata": {},
     "output_type": "execute_result"
    }
   ],
   "source": [
    "agent.invoke('кто такой ...')"
   ]
  }
 ],
 "metadata": {
  "kernelspec": {
   "display_name": "Python 3 (ipykernel)",
   "language": "python",
   "name": "python3"
  },
  "language_info": {
   "codemirror_mode": {
    "name": "ipython",
    "version": 3
   },
   "file_extension": ".py",
   "mimetype": "text/x-python",
   "name": "python",
   "nbconvert_exporter": "python",
   "pygments_lexer": "ipython3",
   "version": "3.13.7"
  }
 },
 "nbformat": 4,
 "nbformat_minor": 5
}
