{
 "cells": [
  {
   "cell_type": "code",
   "execution_count": 1,
   "id": "70ebc71d-3bbc-4a4d-b4dc-0b3af57499bf",
   "metadata": {},
   "outputs": [
    {
     "data": {
      "text/plain": [
       "'/home/jovyan/work'"
      ]
     },
     "execution_count": 1,
     "metadata": {},
     "output_type": "execute_result"
    }
   ],
   "source": [
    "import os\n",
    "os.getcwd()"
   ]
  },
  {
   "cell_type": "code",
   "execution_count": 2,
   "id": "139bd7a8-e30e-4633-92c6-5415b86e0e32",
   "metadata": {},
   "outputs": [],
   "source": [
    "import pandas as pd\n",
    "import numpy as np\n",
    "from langchain_openai import ChatOpenAI"
   ]
  },
  {
   "cell_type": "code",
   "execution_count": 9,
   "id": "a23854a3-f9f3-41a1-8d67-a181438bdf12",
   "metadata": {},
   "outputs": [],
   "source": [
    "from langchain.agents import initialize_agent\n",
    "from langchain.agents import tool, load_tools, AgentType"
   ]
  },
  {
   "cell_type": "code",
   "execution_count": 4,
   "id": "5568f8b0-941a-4107-9a47-8be862de6037",
   "metadata": {},
   "outputs": [],
   "source": [
    "llm = ChatOpenAI(model='gpt-4o-mini', api_key=os.getenv('api_key_aleron'), base_url='https://aleron-llm.neuraldeep.tech/')"
   ]
  },
  {
   "cell_type": "code",
   "execution_count": 5,
   "id": "e0a39fd8-24ed-4b14-8f31-38af11042a78",
   "metadata": {},
   "outputs": [
    {
     "data": {
      "text/plain": [
       "'It looks like you entered \"txt.\" Could you please provide more details or clarify what you’d like to know or discuss? I\\'m here to help!'"
      ]
     },
     "execution_count": 5,
     "metadata": {},
     "output_type": "execute_result"
    }
   ],
   "source": [
    "llm.invoke('''txt''').content"
   ]
  },
  {
   "cell_type": "code",
   "execution_count": 6,
   "id": "39f32362-36fe-42e9-9334-29dc33eb61d2",
   "metadata": {},
   "outputs": [],
   "source": [
    "from langchain_community.utilities import GoogleSerperAPIWrapper"
   ]
  },
  {
   "cell_type": "code",
   "execution_count": 7,
   "id": "cc750ee1-2dcd-46d6-af65-2a4857ffd1cc",
   "metadata": {},
   "outputs": [],
   "source": [
    "serper_api = GoogleSerperAPIWrapper(serper_api_key=os.getenv('serper_api_key'), k=2)"
   ]
  },
  {
   "cell_type": "code",
   "execution_count": 10,
   "id": "bbd38f1c-ca35-4058-8006-ca9a7889d579",
   "metadata": {},
   "outputs": [],
   "source": [
    "@tool\n",
    "def searcher_web(x):\n",
    "    'searcher from google search'\n",
    "    return serper_api.run(x)"
   ]
  },
  {
   "cell_type": "code",
   "execution_count": 14,
   "id": "6dfc8980-e06e-419e-bfde-27ed7cffcca3",
   "metadata": {},
   "outputs": [],
   "source": [
    "from langchain_community.utilities import wikipedia"
   ]
  },
  {
   "cell_type": "code",
   "execution_count": 15,
   "id": "295c7649-5b80-4551-8d7e-26c9ba24bded",
   "metadata": {},
   "outputs": [
    {
     "name": "stderr",
     "output_type": "stream",
     "text": [
      "/tmp/ipykernel_93/4285937590.py:1: LangChainDeprecationWarning: LangChain agents will continue to be supported, but it is recommended for new use cases to be built with LangGraph. LangGraph offers a more flexible and full-featured framework for building agents, including support for tool-calling, persistence of state, and human-in-the-loop workflows. For details, refer to the `LangGraph documentation <https://langchain-ai.github.io/langgraph/>`_ as well as guides for `Migrating from AgentExecutor <https://python.langchain.com/docs/how_to/migrate_agent/>`_ and LangGraph's `Pre-built ReAct agent <https://langchain-ai.github.io/langgraph/how-tos/create-react-agent/>`_.\n",
      "  agent = initialize_agent(tools=[searcher_web] + load_tools(['wikipedia', 'human']), llm=llm, agent=AgentType.ZERO_SHOT_REACT_DESCRIPTION, verbose=True)\n"
     ]
    }
   ],
   "source": [
    "agent = initialize_agent(tools=[searcher_web] + load_tools(['wikipedia', 'human']), llm=llm, agent=AgentType.ZERO_SHOT_REACT_DESCRIPTION, verbose=True)"
   ]
  },
  {
   "cell_type": "code",
   "execution_count": 16,
   "id": "bd49e5cc-7c31-47c9-a23f-b0648188efb3",
   "metadata": {},
   "outputs": [
    {
     "name": "stdout",
     "output_type": "stream",
     "text": [
      "\n",
      "\n",
      "\u001b[1m> Entering new AgentExecutor chain...\u001b[0m\n",
      "\u001b[32;1m\u001b[1;3mЯ не знаю много о Бабурине, мне нужно найти дополнительную информацию о нем и его деятельности в области социальной экономической географии.\n",
      "Action: searcher_web\n",
      "Action Input: Бабурин социальный экономический географ\u001b[0m\n",
      "Observation: \u001b[36;1m\u001b[1;3mVyacheslav Baburin: Russian geographer. Vyacheslav Leonidovich Baburin — Soviet and Russian economic geographer and regional scientist, educator, made a contribution to understanding of dynamic aspects in economic geography, particularly examining innovation cycles in Russian social and... Vyacheslav Baburin Born: 1951 (age 74 years), Moscow, Russia. Vyacheslav Baburin Education: Moscow State University (2002). Вячеслав Леонидович Бабурин (род. 31 мая 1951) — российский экономико-географ, регионалист, теоретик в области географии инновационных процессов. Доктор географических наук, профессор. Окончил географический факультет МГУ имени М. В. Ломоносова. Работает на кафедре экономической и социальной географии ...\u001b[0m\n",
      "Thought:\u001b[32;1m\u001b[1;3mI now have sufficient information about Vyacheslav Baburin and his contributions to economic geography. \n",
      "\n",
      "Final Answer: Вячеслав Леонидович Бабурин — российский экономико-географ и регионалист, родился 31 мая 1951 года в Москве. Он доктор географических наук и профессор, внес значительный вклад в понимание динамических аспектов экономической географии, особенно в изучении инновационных циклов в социальной и экономической географии России. Бабурин окончил географический факультет МГУ имени М. В. Ломоносова и работает на кафедре экономической и социальной географии.\u001b[0m\n",
      "\n",
      "\u001b[1m> Finished chain.\u001b[0m\n"
     ]
    },
    {
     "data": {
      "text/plain": [
       "{'input': 'Напиши, кто такой Бабурин соц эконом географ',\n",
       " 'output': 'Вячеслав Леонидович Бабурин — российский экономико-географ и регионалист, родился 31 мая 1951 года в Москве. Он доктор географических наук и профессор, внес значительный вклад в понимание динамических аспектов экономической географии, особенно в изучении инновационных циклов в социальной и экономической географии России. Бабурин окончил географический факультет МГУ имени М. В. Ломоносова и работает на кафедре экономической и социальной географии.'}"
      ]
     },
     "execution_count": 16,
     "metadata": {},
     "output_type": "execute_result"
    }
   ],
   "source": [
    "agent.invoke('Напиши, кто такой Бабурин соц эконом географ')"
   ]
  },
  {
   "cell_type": "code",
   "execution_count": null,
   "id": "ddad9f92-c5f2-415c-908f-e3903cb8ac02",
   "metadata": {},
   "outputs": [],
   "source": []
  }
 ],
 "metadata": {
  "kernelspec": {
   "display_name": "Python 3 (ipykernel)",
   "language": "python",
   "name": "python3"
  },
  "language_info": {
   "codemirror_mode": {
    "name": "ipython",
    "version": 3
   },
   "file_extension": ".py",
   "mimetype": "text/x-python",
   "name": "python",
   "nbconvert_exporter": "python",
   "pygments_lexer": "ipython3",
   "version": "3.13.7"
  }
 },
 "nbformat": 4,
 "nbformat_minor": 5
}
