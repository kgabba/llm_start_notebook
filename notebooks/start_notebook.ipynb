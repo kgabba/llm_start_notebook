{
 "cells": [
  {
   "cell_type": "code",
   "execution_count": 1,
   "id": "70ebc71d-3bbc-4a4d-b4dc-0b3af57499bf",
   "metadata": {},
   "outputs": [
    {
     "data": {
      "text/plain": [
       "'/home/jovyan/work'"
      ]
     },
     "execution_count": 1,
     "metadata": {},
     "output_type": "execute_result"
    }
   ],
   "source": [
    "import os\n",
    "os.getcwd()"
   ]
  },
  {
   "cell_type": "code",
   "execution_count": 2,
   "id": "139bd7a8-e30e-4633-92c6-5415b86e0e32",
   "metadata": {},
   "outputs": [],
   "source": [
    "import pandas as pd\n",
    "import numpy as np\n",
    "from langchain_openai import ChatOpenAI"
   ]
  },
  {
   "cell_type": "code",
   "execution_count": 14,
   "id": "a23854a3-f9f3-41a1-8d67-a181438bdf12",
   "metadata": {},
   "outputs": [],
   "source": [
    "from langchain.agents import initialize_agent"
   ]
  },
  {
   "cell_type": "code",
   "execution_count": 8,
   "id": "5568f8b0-941a-4107-9a47-8be862de6037",
   "metadata": {},
   "outputs": [],
   "source": [
    "llm = ChatOpenAI(model='gpt-4o-mini', api_key=os.getenv('api_key_aleron'), base_url='https://aleron-llm.neuraldeep.tech/')"
   ]
  },
  {
   "cell_type": "code",
   "execution_count": 11,
   "id": "e0a39fd8-24ed-4b14-8f31-38af11042a78",
   "metadata": {},
   "outputs": [
    {
     "data": {
      "text/plain": [
       "'Это отличный подход! Использование Docker для создания окружения с нужными библиотеками — это удобный и эффективный способ обеспечить совместимость и возможность быстрого развертывания проекта на любом компьютере. \\n\\nЕсли ты добавил необходимые библиотеки в `requirements.txt`, то теперь достаточно просто запустить контейнер, и все зависитимые пакеты будут автоматически установлены. Также это упрощает процесс совместной работы, так как другие разработчики могут клонировать твой репозиторий и запустит ваш проект без дополнительных конфигураций.\\n\\nЕсли ты столкнешься с какими-либо вопросами или проблемами при работе с Docker или библиотеками, не стесняйся спрашивать! Удачи в дальнейшей разработке!'"
      ]
     },
     "execution_count": 11,
     "metadata": {},
     "output_type": "execute_result"
    }
   ],
   "source": [
    "llm.invoke('''txt''').content"
   ]
  },
  {
   "cell_type": "code",
   "execution_count": null,
   "id": "bbd38f1c-ca35-4058-8006-ca9a7889d579",
   "metadata": {},
   "outputs": [],
   "source": [
    " "
   ]
  }
 ],
 "metadata": {
  "kernelspec": {
   "display_name": "Python 3 (ipykernel)",
   "language": "python",
   "name": "python3"
  },
  "language_info": {
   "codemirror_mode": {
    "name": "ipython",
    "version": 3
   },
   "file_extension": ".py",
   "mimetype": "text/x-python",
   "name": "python",
   "nbconvert_exporter": "python",
   "pygments_lexer": "ipython3",
   "version": "3.13.7"
  }
 },
 "nbformat": 4,
 "nbformat_minor": 5
}
